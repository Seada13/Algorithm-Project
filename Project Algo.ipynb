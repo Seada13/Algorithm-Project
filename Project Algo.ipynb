{
 "cells": [
  {
   "cell_type": "code",
   "execution_count": 2,
   "metadata": {
    "id": "SjDoFiKzYscO"
   },
   "outputs": [],
   "source": [
    "import tkinter as tk\n",
    "\n",
    "def heap(a, n, i):\n",
    "    max_val = i\n",
    "    left = 2 * i + 1\n",
    "    right = 2 * i + 2\n",
    "\n",
    "    if left < n and a[i] < a[left]:\n",
    "        max_val = left\n",
    "\n",
    "    if right < n and a[max_val] < a[right]:\n",
    "        max_val = right\n",
    "\n",
    "    if max_val != i:\n",
    "        a[i], a[max_val] = a[max_val], a[i]\n",
    "        heap(a, n, max_val)\n",
    "\n",
    "def heap_sort(a):\n",
    "    n = len(a)\n",
    "\n",
    "    \n",
    "    for i in range(n // 2 - 1, -1, -1):\n",
    "        heap(a, n, i)\n",
    "\n",
    "    \n",
    "    for i in range(n - 1, 0, -1):\n",
    "        a[i], a[0] = a[0], a[i]\n",
    "        heap(a, i, 0)\n",
    "\n",
    "def perform_heap_sort():\n",
    "    input_array = [int(x) for x in input_text.get().split()]\n",
    "    heap_sort(input_array)\n",
    "    result_text.delete(1.0, tk.END)  \n",
    "    result_text.insert(tk.END, \" \".join(map(str, input_array)))\n",
    "\n",
    "\n",
    "root = tk.Tk()\n",
    "root.title(\"Heap Sort\")\n",
    "root.geometry(\"800x500\")  \n",
    "\n",
    "\n",
    "input_label = tk.Label(root, text=\"Enter space-separated numbers:\", font=(\"Arial\", 18))\n",
    "input_label.pack()\n",
    "\n",
    "input_text = tk.Entry(root, font=(\"Arial\", 16))\n",
    "input_text.pack()\n",
    "\n",
    "\n",
    "sort_button = tk.Button(root, text=\"Heap Sort\", command=perform_heap_sort, font=(\"Arial\", 16))\n",
    "sort_button.pack()\n",
    "\n",
    "\n",
    "result_label = tk.Label(root, text=\"Result:\", font=(\"Arial\", 18))\n",
    "result_label.pack()\n",
    "\n",
    "result_text = tk.Text(root, height=10, width=60, font=(\"Arial\", 16))\n",
    "result_text.pack()\n",
    "\n",
    "result_label = tk.Label(root, text=\"Your Time Complixty: O(nlogn)\", font=(\"Arial\", 18))\n",
    "result_label.pack()\n",
    "\n",
    "root.mainloop()\n"
   ]
  },
  {
   "cell_type": "code",
   "execution_count": null,
   "metadata": {},
   "outputs": [],
   "source": []
  }
 ],
 "metadata": {
  "colab": {
   "provenance": []
  },
  "kernelspec": {
   "display_name": "Python 3 (ipykernel)",
   "language": "python",
   "name": "python3"
  },
  "language_info": {
   "codemirror_mode": {
    "name": "ipython",
    "version": 3
   },
   "file_extension": ".py",
   "mimetype": "text/x-python",
   "name": "python",
   "nbconvert_exporter": "python",
   "pygments_lexer": "ipython3",
   "version": "3.11.5"
  }
 },
 "nbformat": 4,
 "nbformat_minor": 1
}
